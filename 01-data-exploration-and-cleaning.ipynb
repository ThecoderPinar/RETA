{
 "cells": [
  {
   "cell_type": "code",
   "execution_count": 1,
   "metadata": {},
   "outputs": [],
   "source": [
    "import pandas as pd\n",
    "import matplotlib.pyplot as plt\n",
    "import seaborn as sns\n",
    "import plotly.express as px\n"
   ]
  },
  {
   "cell_type": "code",
   "execution_count": 2,
   "metadata": {},
   "outputs": [],
   "source": [
    "renewable_share_energy = pd.read_csv('DATAS/01 renewable-share-energy.csv')\n",
    "modern_renewable_consumption = pd.read_csv('DATAS/02 modern-renewable-energy-consumption.csv')\n",
    "modern_renewable_production = pd.read_csv('DATAS/03 modern-renewable-prod.csv')\n",
    "share_electricity_renewables = pd.read_csv('DATAS/04 share-electricity-renewables.csv')\n",
    "hydropower_consumption = pd.read_csv('DATAS/05 hydropower-consumption.csv')\n",
    "hydro_share_energy = pd.read_csv('DATAS/06 hydro-share-energy.csv')\n",
    "share_electricity_hydro = pd.read_csv('DATAS/07 share-electricity-hydro.csv')\n",
    "wind_generation = pd.read_csv('DATAS/08 wind-generation.csv')\n",
    "cumulative_installed_wind_capacity = pd.read_csv('DATAS/09 cumulative-installed-wind-energy-capacity-gigawatts.csv')\n",
    "wind_share_energy = pd.read_csv('DATAS/10 wind-share-energy.csv')\n",
    "share_electricity_wind = pd.read_csv('DATAS/11 share-electricity-wind.csv')\n",
    "solar_energy_consumption = pd.read_csv('DATAS/12 solar-energy-consumption.csv')\n",
    "installed_solar_PV_capacity = pd.read_csv('DATAS/13 installed-solar-PV-capacity.csv')\n",
    "solar_share_energy = pd.read_csv('DATAS/14 solar-share-energy.csv')\n",
    "share_electricity_solar = pd.read_csv('DATAS/15 share-electricity-solar.csv')\n",
    "biofuel_production = pd.read_csv('DATAS/16 biofuel-production.csv')\n",
    "geotermal_capacity = pd.read_csv('DATAS/17 installed-geothermal-capacity.csv')"
   ]
  },
  {
   "cell_type": "code",
   "execution_count": 3,
   "metadata": {},
   "outputs": [
    {
     "name": "stdout",
     "output_type": "stream",
     "text": [
      "First few rows of renewable_share_energy:\n",
      "    Entity Code  Year  Renewables (% equivalent primary energy)\n",
      "0   Africa  NaN  1965                                  5.747495\n",
      "1   Africa  NaN  1966                                  6.122062\n",
      "2   Africa  NaN  1967                                  6.325731\n",
      "3   Africa  NaN  1968                                  7.005293\n",
      "4   Africa  NaN  1969                                  7.956088\n",
      "5   Africa  NaN  1970                                  9.162060\n",
      "6   Africa  NaN  1971                                  8.131308\n",
      "7   Africa  NaN  1972                                  8.747766\n",
      "8   Africa  NaN  1973                                  8.542279\n",
      "9   Africa  NaN  1974                                  9.268067\n",
      "10  Africa  NaN  1975                                  9.238402\n",
      "11  Africa  NaN  1976                                  9.416414\n",
      "12  Africa  NaN  1977                                  9.803299\n",
      "13  Africa  NaN  1978                                  9.519681\n",
      "14  Africa  NaN  1979                                  9.350928\n"
     ]
    }
   ],
   "source": [
    "print(\"First few rows of renewable_share_energy:\")\n",
    "print(renewable_share_energy.head(15))"
   ]
  },
  {
   "cell_type": "code",
   "execution_count": 4,
   "metadata": {},
   "outputs": [
    {
     "name": "stdout",
     "output_type": "stream",
     "text": [
      "\n",
      "Info about renewable_share_energy:\n",
      "<class 'pandas.core.frame.DataFrame'>\n",
      "RangeIndex: 5603 entries, 0 to 5602\n",
      "Data columns (total 4 columns):\n",
      " #   Column                                    Non-Null Count  Dtype  \n",
      "---  ------                                    --------------  -----  \n",
      " 0   Entity                                    5603 non-null   object \n",
      " 1   Code                                      4292 non-null   object \n",
      " 2   Year                                      5603 non-null   int64  \n",
      " 3   Renewables (% equivalent primary energy)  5603 non-null   float64\n",
      "dtypes: float64(1), int64(1), object(2)\n",
      "memory usage: 175.2+ KB\n",
      "None\n"
     ]
    }
   ],
   "source": [
    "print(\"\\nInfo about renewable_share_energy:\")\n",
    "print(renewable_share_energy.info())"
   ]
  },
  {
   "cell_type": "code",
   "execution_count": 5,
   "metadata": {},
   "outputs": [
    {
     "name": "stdout",
     "output_type": "stream",
     "text": [
      "\n",
      "Basic statistics of renewable_share_energy:\n",
      "              Year  Renewables (% equivalent primary energy)\n",
      "count  5603.000000                               5603.000000\n",
      "mean   1993.800821                                 10.735585\n",
      "std      16.283556                                 12.923945\n",
      "min    1965.000000                                  0.000000\n",
      "25%    1980.000000                                  1.980135\n",
      "50%    1994.000000                                  6.522184\n",
      "75%    2008.000000                                 14.099622\n",
      "max    2021.000000                                 86.874535\n"
     ]
    }
   ],
   "source": [
    "\n",
    "print(\"\\nBasic statistics of renewable_share_energy:\")\n",
    "print(renewable_share_energy.describe())"
   ]
  },
  {
   "cell_type": "code",
   "execution_count": 6,
   "metadata": {},
   "outputs": [
    {
     "name": "stdout",
     "output_type": "stream",
     "text": [
      "\n",
      "Basic statistics of renewable_share_energy:\n",
      "Index(['Entity', 'Code', 'Year', 'Renewables (% equivalent primary energy)'], dtype='object')\n"
     ]
    }
   ],
   "source": [
    "print(\"\\nBasic statistics of renewable_share_energy:\")\n",
    "print(renewable_share_energy.columns)"
   ]
  },
  {
   "cell_type": "code",
   "execution_count": 7,
   "metadata": {},
   "outputs": [
    {
     "name": "stdout",
     "output_type": "stream",
     "text": [
      "Entity                                         0\n",
      "Code                                        1311\n",
      "Year                                           0\n",
      "Renewables (% equivalent primary energy)       0\n",
      "dtype: int64\n"
     ]
    }
   ],
   "source": [
    "\n",
    "print(renewable_share_energy.isnull().sum())\n",
    "renewable_share_energy = renewable_share_energy.dropna()"
   ]
  },
  {
   "cell_type": "code",
   "execution_count": 8,
   "metadata": {},
   "outputs": [
    {
     "name": "stdout",
     "output_type": "stream",
     "text": [
      "Entity                                       object\n",
      "Code                                         object\n",
      "Year                                          int64\n",
      "Renewables (% equivalent primary energy)    float64\n",
      "dtype: object\n"
     ]
    }
   ],
   "source": [
    "print(renewable_share_energy.dtypes)"
   ]
  },
  {
   "cell_type": "code",
   "execution_count": 9,
   "metadata": {},
   "outputs": [],
   "source": [
    "from click import style\n",
    "\n",
    "\n",
    "sns.set(style=\"whitegrid\")"
   ]
  },
  {
   "cell_type": "code",
   "execution_count": 10,
   "metadata": {},
   "outputs": [],
   "source": [
    "renewable_share_energy.rename(columns={'Renewables (% equivalent primary energy)': 'Renewables_percent'}, inplace=True)\n"
   ]
  },
  {
   "cell_type": "code",
   "execution_count": 11,
   "metadata": {},
   "outputs": [
    {
     "name": "stdout",
     "output_type": "stream",
     "text": [
      "\n",
      "First few rows of modern_renewable_consumption:\n",
      "   Entity Code  Year  Geo Biomass Other - TWh  Solar Generation - TWh  \\\n",
      "0  Africa  NaN  1971                    0.164                     0.0   \n",
      "1  Africa  NaN  1972                    0.165                     0.0   \n",
      "2  Africa  NaN  1973                    0.170                     0.0   \n",
      "3  Africa  NaN  1974                    0.175                     0.0   \n",
      "4  Africa  NaN  1975                    0.172                     0.0   \n",
      "\n",
      "   Wind Generation - TWh  Hydro Generation - TWh  \n",
      "0                    0.0               26.013390  \n",
      "1                    0.0               29.633196  \n",
      "2                    0.0               31.345707  \n",
      "3                    0.0               35.667076  \n",
      "4                    0.0               37.717968  \n"
     ]
    }
   ],
   "source": [
    "# Explore modern_renewable_consumption data\n",
    "print(\"\\nFirst few rows of modern_renewable_consumption:\")\n",
    "print(modern_renewable_consumption.head())"
   ]
  },
  {
   "cell_type": "code",
   "execution_count": 12,
   "metadata": {},
   "outputs": [
    {
     "name": "stdout",
     "output_type": "stream",
     "text": [
      "\n",
      "Info about modern_renewable_consumption:\n",
      "<class 'pandas.core.frame.DataFrame'>\n",
      "RangeIndex: 5610 entries, 0 to 5609\n",
      "Data columns (total 7 columns):\n",
      " #   Column                   Non-Null Count  Dtype  \n",
      "---  ------                   --------------  -----  \n",
      " 0   Entity                   5610 non-null   object \n",
      " 1   Code                     4299 non-null   object \n",
      " 2   Year                     5610 non-null   int64  \n",
      " 3   Geo Biomass Other - TWh  5466 non-null   float64\n",
      " 4   Solar Generation - TWh   5442 non-null   float64\n",
      " 5   Wind Generation - TWh    5445 non-null   float64\n",
      " 6   Hydro Generation - TWh   5603 non-null   float64\n",
      "dtypes: float64(4), int64(1), object(2)\n",
      "memory usage: 306.9+ KB\n",
      "None\n"
     ]
    }
   ],
   "source": [
    "print(\"\\nInfo about modern_renewable_consumption:\")\n",
    "print(modern_renewable_consumption.info())"
   ]
  },
  {
   "cell_type": "code",
   "execution_count": 13,
   "metadata": {},
   "outputs": [
    {
     "name": "stdout",
     "output_type": "stream",
     "text": [
      "\n",
      "Basic statistics of modern_renewable_consumption:\n",
      "              Year  Geo Biomass Other - TWh  Solar Generation - TWh  \\\n",
      "count  5610.000000              5466.000000             5442.000000   \n",
      "mean   1993.834759                13.455595                5.480776   \n",
      "std      16.301699                47.644151               39.895114   \n",
      "min    1965.000000                 0.000000                0.000000   \n",
      "25%    1980.000000                 0.000000                0.000000   \n",
      "50%    1994.000000                 0.227000                0.000000   \n",
      "75%    2008.000000                 4.270843                0.017030   \n",
      "max    2021.000000               762.782650             1032.501200   \n",
      "\n",
      "       Wind Generation - TWh  Hydro Generation - TWh  \n",
      "count            5445.000000             5603.000000  \n",
      "mean               15.027906              147.892846  \n",
      "std                84.727689              390.187379  \n",
      "min                 0.000000                0.000000  \n",
      "25%                 0.000000                1.368538  \n",
      "50%                 0.000000               10.693000  \n",
      "75%                 0.276075               65.841800  \n",
      "max              1861.939800             4345.990000  \n"
     ]
    }
   ],
   "source": [
    "print(\"\\nBasic statistics of modern_renewable_consumption:\")\n",
    "print(modern_renewable_consumption.describe())"
   ]
  },
  {
   "cell_type": "code",
   "execution_count": 14,
   "metadata": {},
   "outputs": [
    {
     "name": "stdout",
     "output_type": "stream",
     "text": [
      "\n",
      "Basic statistics of modern_renewable_consumption:\n",
      "Index(['Entity', 'Code', 'Year', 'Geo Biomass Other - TWh',\n",
      "       'Solar Generation - TWh', 'Wind Generation - TWh',\n",
      "       'Hydro Generation - TWh'],\n",
      "      dtype='object')\n"
     ]
    }
   ],
   "source": [
    "print(\"\\nBasic statistics of modern_renewable_consumption:\")\n",
    "print(modern_renewable_consumption.columns)"
   ]
  },
  {
   "cell_type": "code",
   "execution_count": 15,
   "metadata": {},
   "outputs": [
    {
     "name": "stdout",
     "output_type": "stream",
     "text": [
      "Entity                        0\n",
      "Code                       1311\n",
      "Year                          0\n",
      "Geo Biomass Other - TWh     144\n",
      "Solar Generation - TWh      168\n",
      "Wind Generation - TWh       165\n",
      "Hydro Generation - TWh        7\n",
      "dtype: int64\n"
     ]
    }
   ],
   "source": [
    "print(modern_renewable_consumption.isnull().sum())\n",
    "modern_renewable_consumption = modern_renewable_consumption.dropna()"
   ]
  },
  {
   "cell_type": "code",
   "execution_count": 16,
   "metadata": {},
   "outputs": [
    {
     "name": "stdout",
     "output_type": "stream",
     "text": [
      "Entity                      object\n",
      "Code                        object\n",
      "Year                         int64\n",
      "Geo Biomass Other - TWh    float64\n",
      "Solar Generation - TWh     float64\n",
      "Wind Generation - TWh      float64\n",
      "Hydro Generation - TWh     float64\n",
      "dtype: object\n"
     ]
    }
   ],
   "source": [
    "print(modern_renewable_consumption.dtypes)"
   ]
  },
  {
   "cell_type": "code",
   "execution_count": 17,
   "metadata": {},
   "outputs": [
    {
     "name": "stdout",
     "output_type": "stream",
     "text": [
      "\n",
      "First few rows of modern_renewable_production:\n",
      "        Entity Code  Year  Electricity from wind (TWh)  \\\n",
      "0  Afghanistan  AFG  2000                          0.0   \n",
      "1  Afghanistan  AFG  2001                          0.0   \n",
      "2  Afghanistan  AFG  2002                          0.0   \n",
      "3  Afghanistan  AFG  2003                          0.0   \n",
      "4  Afghanistan  AFG  2004                          0.0   \n",
      "\n",
      "   Electricity from hydro (TWh)  Electricity from solar (TWh)  \\\n",
      "0                          0.31                           0.0   \n",
      "1                          0.50                           0.0   \n",
      "2                          0.56                           0.0   \n",
      "3                          0.63                           0.0   \n",
      "4                          0.56                           0.0   \n",
      "\n",
      "   Other renewables including bioenergy (TWh)  \n",
      "0                                         0.0  \n",
      "1                                         0.0  \n",
      "2                                         0.0  \n",
      "3                                         0.0  \n",
      "4                                         0.0  \n"
     ]
    }
   ],
   "source": [
    "# Explore modern_renewable_production data\n",
    "print(\"\\nFirst few rows of modern_renewable_production:\")\n",
    "print(modern_renewable_production.head())"
   ]
  },
  {
   "cell_type": "code",
   "execution_count": 18,
   "metadata": {},
   "outputs": [
    {
     "name": "stdout",
     "output_type": "stream",
     "text": [
      "\n",
      "Info about modern_renewable_production:\n",
      "<class 'pandas.core.frame.DataFrame'>\n",
      "RangeIndex: 8851 entries, 0 to 8850\n",
      "Data columns (total 7 columns):\n",
      " #   Column                                      Non-Null Count  Dtype  \n",
      "---  ------                                      --------------  -----  \n",
      " 0   Entity                                      8851 non-null   object \n",
      " 1   Code                                        7296 non-null   object \n",
      " 2   Year                                        8851 non-null   int64  \n",
      " 3   Electricity from wind (TWh)                 8676 non-null   float64\n",
      " 4   Electricity from hydro (TWh)                8840 non-null   float64\n",
      " 5   Electricity from solar (TWh)                8683 non-null   float64\n",
      " 6   Other renewables including bioenergy (TWh)  8631 non-null   float64\n",
      "dtypes: float64(4), int64(1), object(2)\n",
      "memory usage: 484.2+ KB\n",
      "None\n"
     ]
    }
   ],
   "source": [
    "print(\"\\nInfo about modern_renewable_production:\")\n",
    "print(modern_renewable_production.info())"
   ]
  },
  {
   "cell_type": "code",
   "execution_count": 19,
   "metadata": {},
   "outputs": [
    {
     "name": "stdout",
     "output_type": "stream",
     "text": [
      "\n",
      "Basic statistics of modern_renewable_production:\n",
      "              Year  Electricity from wind (TWh)  Electricity from hydro (TWh)  \\\n",
      "count  8851.000000                  8676.000000                   8840.000000   \n",
      "mean   1999.912665                    14.571142                    116.578505   \n",
      "std      15.751623                    86.388161                    360.230480   \n",
      "min    1965.000000                     0.000000                      0.000000   \n",
      "25%    1988.000000                     0.000000                      0.090000   \n",
      "50%    2004.000000                     0.000000                      3.525500   \n",
      "75%    2013.000000                     0.059000                     30.067500   \n",
      "max    2022.000000                  1848.260000                   4340.610000   \n",
      "\n",
      "       Electricity from solar (TWh)  \\\n",
      "count                   8683.000000   \n",
      "mean                       5.277942   \n",
      "std                       40.098862   \n",
      "min                        0.000000   \n",
      "25%                        0.000000   \n",
      "50%                        0.000000   \n",
      "75%                        0.010000   \n",
      "max                     1040.500000   \n",
      "\n",
      "       Other renewables including bioenergy (TWh)  \n",
      "count                                  8631.00000  \n",
      "mean                                     12.24002  \n",
      "std                                      48.35120  \n",
      "min                                       0.00000  \n",
      "25%                                       0.00000  \n",
      "50%                                       0.02000  \n",
      "75%                                       1.61000  \n",
      "max                                     761.93005  \n"
     ]
    }
   ],
   "source": [
    "print(\"\\nBasic statistics of modern_renewable_production:\")\n",
    "print(modern_renewable_production.describe())"
   ]
  },
  {
   "cell_type": "code",
   "execution_count": 20,
   "metadata": {},
   "outputs": [
    {
     "name": "stdout",
     "output_type": "stream",
     "text": [
      "\n",
      "Basic statistics of modern_renewable_production:\n",
      "Index(['Entity', 'Code', 'Year', 'Electricity from wind (TWh)',\n",
      "       'Electricity from hydro (TWh)', 'Electricity from solar (TWh)',\n",
      "       'Other renewables including bioenergy (TWh)'],\n",
      "      dtype='object')\n"
     ]
    }
   ],
   "source": [
    "\n",
    "print(\"\\nBasic statistics of modern_renewable_production:\")\n",
    "print(modern_renewable_production.columns)\n"
   ]
  },
  {
   "cell_type": "code",
   "execution_count": 21,
   "metadata": {},
   "outputs": [
    {
     "name": "stdout",
     "output_type": "stream",
     "text": [
      "Entity                                           0\n",
      "Code                                          1555\n",
      "Year                                             0\n",
      "Electricity from wind (TWh)                    175\n",
      "Electricity from hydro (TWh)                    11\n",
      "Electricity from solar (TWh)                   168\n",
      "Other renewables including bioenergy (TWh)     220\n",
      "dtype: int64\n"
     ]
    }
   ],
   "source": [
    "print(modern_renewable_production.isnull().sum())\n",
    "\n",
    "modern_renewable_production = modern_renewable_production.dropna() "
   ]
  },
  {
   "cell_type": "code",
   "execution_count": 22,
   "metadata": {},
   "outputs": [
    {
     "name": "stdout",
     "output_type": "stream",
     "text": [
      "Entity                                         object\n",
      "Code                                           object\n",
      "Year                                            int64\n",
      "Electricity from wind (TWh)                   float64\n",
      "Electricity from hydro (TWh)                  float64\n",
      "Electricity from solar (TWh)                  float64\n",
      "Other renewables including bioenergy (TWh)    float64\n",
      "dtype: object\n"
     ]
    }
   ],
   "source": [
    "print(modern_renewable_production.dtypes)"
   ]
  },
  {
   "cell_type": "code",
   "execution_count": 23,
   "metadata": {},
   "outputs": [
    {
     "name": "stdout",
     "output_type": "stream",
     "text": [
      "\n",
      "First few rows of share_electricity_renewables:\n",
      "        Entity Code  Year  Renewables (% electricity)\n",
      "0  Afghanistan  AFG  2000                   65.957440\n",
      "1  Afghanistan  AFG  2001                   84.745766\n",
      "2  Afghanistan  AFG  2002                   81.159424\n",
      "3  Afghanistan  AFG  2003                   67.021280\n",
      "4  Afghanistan  AFG  2004                   62.921350\n"
     ]
    }
   ],
   "source": [
    "# Explore share_electricity_renewables data\n",
    "print(\"\\nFirst few rows of share_electricity_renewables:\")\n",
    "print(share_electricity_renewables.head())"
   ]
  },
  {
   "cell_type": "code",
   "execution_count": 24,
   "metadata": {},
   "outputs": [
    {
     "name": "stdout",
     "output_type": "stream",
     "text": [
      "\n",
      "Info about share_electricity_renewables:\n",
      "<class 'pandas.core.frame.DataFrame'>\n",
      "RangeIndex: 6871 entries, 0 to 6870\n",
      "Data columns (total 4 columns):\n",
      " #   Column                      Non-Null Count  Dtype  \n",
      "---  ------                      --------------  -----  \n",
      " 0   Entity                      6871 non-null   object \n",
      " 1   Code                        5781 non-null   object \n",
      " 2   Year                        6871 non-null   int64  \n",
      " 3   Renewables (% electricity)  6871 non-null   float64\n",
      "dtypes: float64(1), int64(1), object(2)\n",
      "memory usage: 214.8+ KB\n",
      "None\n"
     ]
    }
   ],
   "source": [
    "print(\"\\nInfo about share_electricity_renewables:\")\n",
    "print(share_electricity_renewables.info())"
   ]
  },
  {
   "cell_type": "code",
   "execution_count": 25,
   "metadata": {},
   "outputs": [
    {
     "name": "stdout",
     "output_type": "stream",
     "text": [
      "\n",
      "Basic statistics of share_electricity_renewables:\n",
      "              Year  Renewables (% electricity)\n",
      "count  6871.000000                 6871.000000\n",
      "mean   2006.532091                   30.103262\n",
      "std       9.626237                   30.808484\n",
      "min    1985.000000                    0.000000\n",
      "25%    2000.000000                    3.552926\n",
      "50%    2007.000000                   18.374070\n",
      "75%    2014.000000                   51.874399\n",
      "max    2022.000000                  100.000015\n"
     ]
    }
   ],
   "source": [
    "print(\"\\nBasic statistics of share_electricity_renewables:\")\n",
    "print(share_electricity_renewables.describe())"
   ]
  },
  {
   "cell_type": "code",
   "execution_count": 26,
   "metadata": {},
   "outputs": [
    {
     "name": "stdout",
     "output_type": "stream",
     "text": [
      "\n",
      "Basic statistics of share_electricity_renewables:\n",
      "Index(['Entity', 'Code', 'Year', 'Renewables (% electricity)'], dtype='object')\n"
     ]
    }
   ],
   "source": [
    "print(\"\\nBasic statistics of share_electricity_renewables:\")\n",
    "print(share_electricity_renewables.columns)\n"
   ]
  },
  {
   "cell_type": "code",
   "execution_count": 27,
   "metadata": {},
   "outputs": [
    {
     "name": "stdout",
     "output_type": "stream",
     "text": [
      "Entity                           0\n",
      "Code                          1090\n",
      "Year                             0\n",
      "Renewables (% electricity)       0\n",
      "dtype: int64\n"
     ]
    }
   ],
   "source": [
    "print(share_electricity_renewables.isnull().sum())\n",
    "\n",
    "share_electricity_renewables = share_electricity_renewables.dropna()"
   ]
  },
  {
   "cell_type": "code",
   "execution_count": 28,
   "metadata": {},
   "outputs": [
    {
     "name": "stdout",
     "output_type": "stream",
     "text": [
      "Entity                         object\n",
      "Code                           object\n",
      "Year                            int64\n",
      "Renewables (% electricity)    float64\n",
      "dtype: object\n"
     ]
    }
   ],
   "source": [
    "print(share_electricity_renewables.dtypes)"
   ]
  },
  {
   "cell_type": "code",
   "execution_count": 29,
   "metadata": {},
   "outputs": [
    {
     "name": "stdout",
     "output_type": "stream",
     "text": [
      "\n",
      "First few rows of hydropower_consumption:\n",
      "        Entity Code  Year  Electricity from hydro (TWh)\n",
      "0  Afghanistan  AFG  2000                          0.31\n",
      "1  Afghanistan  AFG  2001                          0.50\n",
      "2  Afghanistan  AFG  2002                          0.56\n",
      "3  Afghanistan  AFG  2003                          0.63\n",
      "4  Afghanistan  AFG  2004                          0.56\n"
     ]
    }
   ],
   "source": [
    "# Explore hydropower_consumption data\n",
    "print(\"\\nFirst few rows of hydropower_consumption:\")\n",
    "print(hydropower_consumption.head())"
   ]
  },
  {
   "cell_type": "code",
   "execution_count": 30,
   "metadata": {},
   "outputs": [
    {
     "name": "stdout",
     "output_type": "stream",
     "text": [
      "\n",
      "Info about hydropower_consumption:\n",
      "<class 'pandas.core.frame.DataFrame'>\n",
      "RangeIndex: 8840 entries, 0 to 8839\n",
      "Data columns (total 4 columns):\n",
      " #   Column                        Non-Null Count  Dtype  \n",
      "---  ------                        --------------  -----  \n",
      " 0   Entity                        8840 non-null   object \n",
      " 1   Code                          7285 non-null   object \n",
      " 2   Year                          8840 non-null   int64  \n",
      " 3   Electricity from hydro (TWh)  8840 non-null   float64\n",
      "dtypes: float64(1), int64(1), object(2)\n",
      "memory usage: 276.4+ KB\n",
      "None\n"
     ]
    }
   ],
   "source": [
    "print(\"\\nInfo about hydropower_consumption:\")\n",
    "print(hydropower_consumption.info())"
   ]
  },
  {
   "cell_type": "code",
   "execution_count": 31,
   "metadata": {},
   "outputs": [
    {
     "name": "stdout",
     "output_type": "stream",
     "text": [
      "\n",
      "Basic statistics of hydropower_consumption:\n",
      "              Year  Electricity from hydro (TWh)\n",
      "count  8840.000000                   8840.000000\n",
      "mean   1999.891516                    116.578505\n",
      "std      15.749636                    360.230480\n",
      "min    1965.000000                      0.000000\n",
      "25%    1988.000000                      0.090000\n",
      "50%    2004.000000                      3.525500\n",
      "75%    2013.000000                     30.067500\n",
      "max    2022.000000                   4340.610000\n"
     ]
    }
   ],
   "source": [
    "print(\"\\nBasic statistics of hydropower_consumption:\")\n",
    "print(hydropower_consumption.describe())\n"
   ]
  },
  {
   "cell_type": "code",
   "execution_count": 32,
   "metadata": {},
   "outputs": [
    {
     "name": "stdout",
     "output_type": "stream",
     "text": [
      "\n",
      "Basic statistics of hydropower_consumption:\n",
      "Index(['Entity', 'Code', 'Year', 'Electricity from hydro (TWh)'], dtype='object')\n"
     ]
    }
   ],
   "source": [
    "print(\"\\nBasic statistics of hydropower_consumption:\")\n",
    "print(hydropower_consumption.columns)"
   ]
  },
  {
   "cell_type": "code",
   "execution_count": 33,
   "metadata": {},
   "outputs": [
    {
     "name": "stdout",
     "output_type": "stream",
     "text": [
      "Entity                             0\n",
      "Code                            1555\n",
      "Year                               0\n",
      "Electricity from hydro (TWh)       0\n",
      "dtype: int64\n"
     ]
    }
   ],
   "source": [
    "print(hydropower_consumption.isnull().sum())\n",
    "\n",
    "hydropower_consumption = hydropower_consumption.dropna()  "
   ]
  },
  {
   "cell_type": "code",
   "execution_count": 34,
   "metadata": {},
   "outputs": [
    {
     "name": "stdout",
     "output_type": "stream",
     "text": [
      "Entity                           object\n",
      "Code                             object\n",
      "Year                              int64\n",
      "Electricity from hydro (TWh)    float64\n",
      "dtype: object\n"
     ]
    }
   ],
   "source": [
    "print(hydropower_consumption.dtypes)"
   ]
  },
  {
   "cell_type": "code",
   "execution_count": 35,
   "metadata": {},
   "outputs": [
    {
     "name": "stdout",
     "output_type": "stream",
     "text": [
      "First few rows of hydro_share_energy:\n",
      "   Entity Code  Year  Hydro (% equivalent primary energy)\n",
      "0  Africa  NaN  1965                             5.747495\n",
      "1  Africa  NaN  1966                             6.122062\n",
      "2  Africa  NaN  1967                             6.325731\n",
      "3  Africa  NaN  1968                             7.005293\n",
      "4  Africa  NaN  1969                             7.956088\n"
     ]
    }
   ],
   "source": [
    "# Explore hydro_share_energy data\n",
    "print(\"First few rows of hydro_share_energy:\")\n",
    "print(hydro_share_energy.head())"
   ]
  },
  {
   "cell_type": "code",
   "execution_count": 36,
   "metadata": {},
   "outputs": [
    {
     "name": "stdout",
     "output_type": "stream",
     "text": [
      "\n",
      "Info about hydro_share_energy:\n",
      "<class 'pandas.core.frame.DataFrame'>\n",
      "RangeIndex: 5603 entries, 0 to 5602\n",
      "Data columns (total 4 columns):\n",
      " #   Column                               Non-Null Count  Dtype  \n",
      "---  ------                               --------------  -----  \n",
      " 0   Entity                               5603 non-null   object \n",
      " 1   Code                                 4292 non-null   object \n",
      " 2   Year                                 5603 non-null   int64  \n",
      " 3   Hydro (% equivalent primary energy)  5603 non-null   float64\n",
      "dtypes: float64(1), int64(1), object(2)\n",
      "memory usage: 175.2+ KB\n",
      "None\n"
     ]
    }
   ],
   "source": [
    "print(\"\\nInfo about hydro_share_energy:\")\n",
    "print(hydro_share_energy.info())"
   ]
  },
  {
   "cell_type": "code",
   "execution_count": 37,
   "metadata": {},
   "outputs": [
    {
     "name": "stdout",
     "output_type": "stream",
     "text": [
      "\n",
      "Basic statistics of hydro_share_energy:\n",
      "              Year  Hydro (% equivalent primary energy)\n",
      "count  5603.000000                          5603.000000\n",
      "mean   1993.800821                             9.321855\n",
      "std      16.283556                            11.947563\n",
      "min    1965.000000                             0.000000\n",
      "25%    1980.000000                             1.210476\n",
      "50%    1994.000000                             5.561826\n",
      "75%    2008.000000                            11.462906\n",
      "max    2021.000000                            72.310486\n"
     ]
    }
   ],
   "source": [
    "print(\"\\nBasic statistics of hydro_share_energy:\")\n",
    "print(hydro_share_energy.describe())"
   ]
  },
  {
   "cell_type": "code",
   "execution_count": 38,
   "metadata": {},
   "outputs": [
    {
     "name": "stdout",
     "output_type": "stream",
     "text": [
      "\n",
      "Basic statistics of hydro_share_energy:\n",
      "Index(['Entity', 'Code', 'Year', 'Hydro (% equivalent primary energy)'], dtype='object')\n"
     ]
    }
   ],
   "source": [
    "print(\"\\nBasic statistics of hydro_share_energy:\")\n",
    "print(hydro_share_energy.columns)\n"
   ]
  },
  {
   "cell_type": "code",
   "execution_count": 39,
   "metadata": {},
   "outputs": [
    {
     "name": "stdout",
     "output_type": "stream",
     "text": [
      "Entity                                    0\n",
      "Code                                   1311\n",
      "Year                                      0\n",
      "Hydro (% equivalent primary energy)       0\n",
      "dtype: int64\n"
     ]
    }
   ],
   "source": [
    "print(hydro_share_energy.isnull().sum())\n",
    "\n",
    "hydro_share_energy = hydro_share_energy.dropna()  "
   ]
  },
  {
   "cell_type": "code",
   "execution_count": 40,
   "metadata": {},
   "outputs": [
    {
     "name": "stdout",
     "output_type": "stream",
     "text": [
      "Entity                                  object\n",
      "Code                                    object\n",
      "Year                                     int64\n",
      "Hydro (% equivalent primary energy)    float64\n",
      "dtype: object\n"
     ]
    }
   ],
   "source": [
    "print(hydro_share_energy.dtypes)"
   ]
  },
  {
   "cell_type": "code",
   "execution_count": 41,
   "metadata": {},
   "outputs": [
    {
     "name": "stdout",
     "output_type": "stream",
     "text": [
      "First few rows of share_electricity_hydro:\n",
      "        Entity Code  Year  Hydro (% electricity)\n",
      "0  Afghanistan  AFG  2000              65.957440\n",
      "1  Afghanistan  AFG  2001              84.745766\n",
      "2  Afghanistan  AFG  2002              81.159424\n",
      "3  Afghanistan  AFG  2003              67.021280\n",
      "4  Afghanistan  AFG  2004              62.921350\n"
     ]
    }
   ],
   "source": [
    "# Explore share_electricity_hydro data\n",
    "print(\"First few rows of share_electricity_hydro:\")\n",
    "print(share_electricity_hydro.head())"
   ]
  },
  {
   "cell_type": "code",
   "execution_count": 42,
   "metadata": {},
   "outputs": [
    {
     "name": "stdout",
     "output_type": "stream",
     "text": [
      "\n",
      "Info about share_electricity_hydro:\n",
      "<class 'pandas.core.frame.DataFrame'>\n",
      "RangeIndex: 6925 entries, 0 to 6924\n",
      "Data columns (total 4 columns):\n",
      " #   Column                 Non-Null Count  Dtype  \n",
      "---  ------                 --------------  -----  \n",
      " 0   Entity                 6925 non-null   object \n",
      " 1   Code                   5830 non-null   object \n",
      " 2   Year                   6925 non-null   int64  \n",
      " 3   Hydro (% electricity)  6925 non-null   float64\n",
      "dtypes: float64(1), int64(1), object(2)\n",
      "memory usage: 216.5+ KB\n",
      "None\n"
     ]
    }
   ],
   "source": [
    "print(\"\\nInfo about share_electricity_hydro:\")\n",
    "print(share_electricity_hydro.info())"
   ]
  },
  {
   "cell_type": "code",
   "execution_count": 43,
   "metadata": {},
   "outputs": [
    {
     "name": "stdout",
     "output_type": "stream",
     "text": [
      "\n",
      "Basic statistics of share_electricity_hydro:\n",
      "              Year  Hydro (% electricity)\n",
      "count  6925.000000            6925.000000\n",
      "mean   2006.374874              25.602426\n",
      "std       9.743362              29.748258\n",
      "min    1985.000000               0.000000\n",
      "25%    2000.000000               0.518249\n",
      "50%    2007.000000              13.937198\n",
      "75%    2014.000000              43.217500\n",
      "max    2022.000000             100.000010\n"
     ]
    }
   ],
   "source": [
    "print(\"\\nBasic statistics of share_electricity_hydro:\")\n",
    "print(share_electricity_hydro.describe())\n"
   ]
  },
  {
   "cell_type": "code",
   "execution_count": 44,
   "metadata": {},
   "outputs": [
    {
     "name": "stdout",
     "output_type": "stream",
     "text": [
      "\n",
      "Basic statistics of share_electricity_hydro:\n",
      "Index(['Entity', 'Code', 'Year', 'Hydro (% electricity)'], dtype='object')\n"
     ]
    }
   ],
   "source": [
    "print(\"\\nBasic statistics of share_electricity_hydro:\")\n",
    "print(share_electricity_hydro.columns)"
   ]
  },
  {
   "cell_type": "code",
   "execution_count": 45,
   "metadata": {},
   "outputs": [
    {
     "name": "stdout",
     "output_type": "stream",
     "text": [
      "Entity                      0\n",
      "Code                     1095\n",
      "Year                        0\n",
      "Hydro (% electricity)       0\n",
      "dtype: int64\n"
     ]
    }
   ],
   "source": [
    "print(share_electricity_hydro.isnull().sum())\n",
    "\n",
    "share_electricity_hydro = share_electricity_hydro.dropna()  "
   ]
  },
  {
   "cell_type": "code",
   "execution_count": 46,
   "metadata": {},
   "outputs": [
    {
     "name": "stdout",
     "output_type": "stream",
     "text": [
      "Entity                    object\n",
      "Code                      object\n",
      "Year                       int64\n",
      "Hydro (% electricity)    float64\n",
      "dtype: object\n"
     ]
    }
   ],
   "source": [
    "print(share_electricity_hydro.dtypes)"
   ]
  },
  {
   "cell_type": "code",
   "execution_count": 47,
   "metadata": {},
   "outputs": [
    {
     "name": "stdout",
     "output_type": "stream",
     "text": [
      "First few rows of wind_generation:\n",
      "        Entity Code  Year  Electricity from wind (TWh)\n",
      "0  Afghanistan  AFG  2000                          0.0\n",
      "1  Afghanistan  AFG  2001                          0.0\n",
      "2  Afghanistan  AFG  2002                          0.0\n",
      "3  Afghanistan  AFG  2003                          0.0\n",
      "4  Afghanistan  AFG  2004                          0.0\n"
     ]
    }
   ],
   "source": [
    "# Explore wind_generation data\n",
    "print(\"First few rows of wind_generation:\")\n",
    "print(wind_generation.head())"
   ]
  },
  {
   "cell_type": "code",
   "execution_count": 48,
   "metadata": {},
   "outputs": [
    {
     "name": "stdout",
     "output_type": "stream",
     "text": [
      "\n",
      "Info about wind_generation:\n",
      "<class 'pandas.core.frame.DataFrame'>\n",
      "RangeIndex: 8676 entries, 0 to 8675\n",
      "Data columns (total 4 columns):\n",
      " #   Column                       Non-Null Count  Dtype  \n",
      "---  ------                       --------------  -----  \n",
      " 0   Entity                       8676 non-null   object \n",
      " 1   Code                         7217 non-null   object \n",
      " 2   Year                         8676 non-null   int64  \n",
      " 3   Electricity from wind (TWh)  8676 non-null   float64\n",
      "dtypes: float64(1), int64(1), object(2)\n",
      "memory usage: 271.3+ KB\n",
      "None\n"
     ]
    }
   ],
   "source": [
    "print(\"\\nInfo about wind_generation:\")\n",
    "print(wind_generation.info())"
   ]
  },
  {
   "cell_type": "code",
   "execution_count": 49,
   "metadata": {},
   "outputs": [
    {
     "name": "stdout",
     "output_type": "stream",
     "text": [
      "\n",
      "Basic statistics of wind_generation:\n",
      "              Year  Electricity from wind (TWh)\n",
      "count  8676.000000                  8676.000000\n",
      "mean   2000.344168                    14.571142\n",
      "std      15.507389                    86.388161\n",
      "min    1965.000000                     0.000000\n",
      "25%    1990.000000                     0.000000\n",
      "50%    2004.000000                     0.000000\n",
      "75%    2013.000000                     0.059000\n",
      "max    2022.000000                  1848.260000\n"
     ]
    }
   ],
   "source": [
    "print(\"\\nBasic statistics of wind_generation:\")\n",
    "print(wind_generation.describe())"
   ]
  },
  {
   "cell_type": "code",
   "execution_count": 50,
   "metadata": {},
   "outputs": [
    {
     "name": "stdout",
     "output_type": "stream",
     "text": [
      "\n",
      "Basic statistics of wind_generation:\n",
      "Index(['Entity', 'Code', 'Year', 'Electricity from wind (TWh)'], dtype='object')\n"
     ]
    }
   ],
   "source": [
    "print(\"\\nBasic statistics of wind_generation:\")\n",
    "print(wind_generation.columns)"
   ]
  },
  {
   "cell_type": "code",
   "execution_count": 51,
   "metadata": {},
   "outputs": [
    {
     "name": "stdout",
     "output_type": "stream",
     "text": [
      "Entity                            0\n",
      "Code                           1459\n",
      "Year                              0\n",
      "Electricity from wind (TWh)       0\n",
      "dtype: int64\n"
     ]
    }
   ],
   "source": [
    "print(wind_generation.isnull().sum())\n",
    "\n",
    "wind_generation = wind_generation.dropna()"
   ]
  },
  {
   "cell_type": "code",
   "execution_count": 52,
   "metadata": {},
   "outputs": [
    {
     "name": "stdout",
     "output_type": "stream",
     "text": [
      "Entity                          object\n",
      "Code                            object\n",
      "Year                             int64\n",
      "Electricity from wind (TWh)    float64\n",
      "dtype: object\n"
     ]
    }
   ],
   "source": [
    "print(wind_generation.dtypes)"
   ]
  },
  {
   "cell_type": "code",
   "execution_count": 53,
   "metadata": {},
   "outputs": [
    {
     "name": "stdout",
     "output_type": "stream",
     "text": [
      "First few rows of cumulative_installed_wind_capacity:\n",
      "   Entity Code  Year  Wind Capacity\n",
      "0  Africa  NaN  1997        0.00600\n",
      "1  Africa  NaN  1998        0.01000\n",
      "2  Africa  NaN  1999        0.06400\n",
      "3  Africa  NaN  2000        0.13905\n",
      "4  Africa  NaN  2001        0.13905\n"
     ]
    }
   ],
   "source": [
    "# Explore cumulative_installed_wind_capacity data\n",
    "print(\"First few rows of cumulative_installed_wind_capacity:\")\n",
    "print(cumulative_installed_wind_capacity.head())"
   ]
  },
  {
   "cell_type": "code",
   "execution_count": 54,
   "metadata": {},
   "outputs": [
    {
     "name": "stdout",
     "output_type": "stream",
     "text": [
      "\n",
      "Info about cumulative_installed_wind_capacity:\n",
      "<class 'pandas.core.frame.DataFrame'>\n",
      "RangeIndex: 1540 entries, 0 to 1539\n",
      "Data columns (total 4 columns):\n",
      " #   Column         Non-Null Count  Dtype  \n",
      "---  ------         --------------  -----  \n",
      " 0   Entity         1540 non-null   object \n",
      " 1   Code           1143 non-null   object \n",
      " 2   Year           1540 non-null   int64  \n",
      " 3   Wind Capacity  1540 non-null   float64\n",
      "dtypes: float64(1), int64(1), object(2)\n",
      "memory usage: 48.3+ KB\n",
      "None\n"
     ]
    }
   ],
   "source": [
    "print(\"\\nInfo about cumulative_installed_wind_capacity:\")\n",
    "print(cumulative_installed_wind_capacity.info())"
   ]
  },
  {
   "cell_type": "code",
   "execution_count": 55,
   "metadata": {},
   "outputs": [
    {
     "name": "stdout",
     "output_type": "stream",
     "text": [
      "\n",
      "Basic statistics of cumulative_installed_wind_capacity:\n",
      "              Year  Wind Capacity\n",
      "count  1540.000000    1540.000000\n",
      "mean   2009.068182      19.822411\n",
      "std       7.187177      63.736134\n",
      "min    1995.000000       0.000000\n",
      "25%    2003.000000       0.082000\n",
      "50%    2009.000000       0.941650\n",
      "75%    2015.000000       6.096985\n",
      "max    2021.000000     824.874060\n"
     ]
    }
   ],
   "source": [
    "print(\"\\nBasic statistics of cumulative_installed_wind_capacity:\")\n",
    "print(cumulative_installed_wind_capacity.describe())"
   ]
  },
  {
   "cell_type": "code",
   "execution_count": 56,
   "metadata": {},
   "outputs": [
    {
     "name": "stdout",
     "output_type": "stream",
     "text": [
      "\n",
      "Basic statistics of cumulative_installed_wind_capacity:\n",
      "Index(['Entity', 'Code', 'Year', 'Wind Capacity'], dtype='object')\n"
     ]
    }
   ],
   "source": [
    "print(\"\\nBasic statistics of cumulative_installed_wind_capacity:\")\n",
    "print(cumulative_installed_wind_capacity.columns)"
   ]
  },
  {
   "cell_type": "code",
   "execution_count": 57,
   "metadata": {},
   "outputs": [
    {
     "name": "stdout",
     "output_type": "stream",
     "text": [
      "Entity             0\n",
      "Code             397\n",
      "Year               0\n",
      "Wind Capacity      0\n",
      "dtype: int64\n"
     ]
    }
   ],
   "source": [
    "print(cumulative_installed_wind_capacity.isnull().sum())\n",
    "\n",
    "cumulative_installed_wind_capacity = cumulative_installed_wind_capacity.dropna() "
   ]
  },
  {
   "cell_type": "code",
   "execution_count": 58,
   "metadata": {},
   "outputs": [
    {
     "name": "stdout",
     "output_type": "stream",
     "text": [
      "Entity            object\n",
      "Code              object\n",
      "Year               int64\n",
      "Wind Capacity    float64\n",
      "dtype: object\n"
     ]
    }
   ],
   "source": [
    "print(cumulative_installed_wind_capacity.dtypes)"
   ]
  },
  {
   "cell_type": "code",
   "execution_count": 59,
   "metadata": {},
   "outputs": [
    {
     "name": "stdout",
     "output_type": "stream",
     "text": [
      "First few rows of wind_share_energy:\n",
      "   Entity Code  Year  Wind (% equivalent primary energy)\n",
      "0  Africa  NaN  1965                                 0.0\n",
      "1  Africa  NaN  1966                                 0.0\n",
      "2  Africa  NaN  1967                                 0.0\n",
      "3  Africa  NaN  1968                                 0.0\n",
      "4  Africa  NaN  1969                                 0.0\n"
     ]
    }
   ],
   "source": [
    "# Explore wind_share_energy data\n",
    "print(\"First few rows of wind_share_energy:\")\n",
    "print(wind_share_energy.head())"
   ]
  },
  {
   "cell_type": "code",
   "execution_count": 60,
   "metadata": {},
   "outputs": [
    {
     "name": "stdout",
     "output_type": "stream",
     "text": [
      "\n",
      "Info about wind_share_energy:\n",
      "<class 'pandas.core.frame.DataFrame'>\n",
      "RangeIndex: 5445 entries, 0 to 5444\n",
      "Data columns (total 4 columns):\n",
      " #   Column                              Non-Null Count  Dtype  \n",
      "---  ------                              --------------  -----  \n",
      " 0   Entity                              5445 non-null   object \n",
      " 1   Code                                4230 non-null   object \n",
      " 2   Year                                5445 non-null   int64  \n",
      " 3   Wind (% equivalent primary energy)  5445 non-null   float64\n",
      "dtypes: float64(1), int64(1), object(2)\n",
      "memory usage: 170.3+ KB\n",
      "None\n"
     ]
    }
   ],
   "source": [
    "print(\"\\nInfo about wind_share_energy:\")\n",
    "print(wind_share_energy.info())"
   ]
  },
  {
   "cell_type": "code",
   "execution_count": 61,
   "metadata": {},
   "outputs": [
    {
     "name": "stdout",
     "output_type": "stream",
     "text": [
      "\n",
      "Basic statistics of wind_share_energy:\n",
      "              Year  Wind (% equivalent primary energy)\n",
      "count  5445.000000                         5445.000000\n",
      "mean   1994.368595                            0.440741\n",
      "std      16.180258                            1.533420\n",
      "min    1965.000000                            0.000000\n",
      "25%    1981.000000                            0.000000\n",
      "50%    1995.000000                            0.000000\n",
      "75%    2008.000000                            0.052514\n",
      "max    2021.000000                           24.614344\n"
     ]
    }
   ],
   "source": [
    "print(\"\\nBasic statistics of wind_share_energy:\")\n",
    "print(wind_share_energy.describe())"
   ]
  },
  {
   "cell_type": "code",
   "execution_count": 62,
   "metadata": {},
   "outputs": [
    {
     "name": "stdout",
     "output_type": "stream",
     "text": [
      "\n",
      "Basic statistics of wind_share_energy:\n",
      "Index(['Entity', 'Code', 'Year', 'Wind (% equivalent primary energy)'], dtype='object')\n"
     ]
    }
   ],
   "source": [
    "print(\"\\nBasic statistics of wind_share_energy:\")\n",
    "print(wind_share_energy.columns)"
   ]
  },
  {
   "cell_type": "code",
   "execution_count": 63,
   "metadata": {},
   "outputs": [
    {
     "name": "stdout",
     "output_type": "stream",
     "text": [
      "Entity                                   0\n",
      "Code                                  1215\n",
      "Year                                     0\n",
      "Wind (% equivalent primary energy)       0\n",
      "dtype: int64\n"
     ]
    }
   ],
   "source": [
    "\n",
    "print(wind_share_energy.isnull().sum())\n",
    "\n",
    "wind_share_energy = wind_share_energy.dropna()"
   ]
  },
  {
   "cell_type": "code",
   "execution_count": 64,
   "metadata": {},
   "outputs": [
    {
     "name": "stdout",
     "output_type": "stream",
     "text": [
      "Entity                                 object\n",
      "Code                                   object\n",
      "Year                                    int64\n",
      "Wind (% equivalent primary energy)    float64\n",
      "dtype: object\n"
     ]
    }
   ],
   "source": [
    "print(wind_share_energy.dtypes)"
   ]
  },
  {
   "cell_type": "code",
   "execution_count": 65,
   "metadata": {},
   "outputs": [
    {
     "name": "stdout",
     "output_type": "stream",
     "text": [
      "First few rows of wind_share_energy:\n",
      "      Entity Code  Year  Wind (% equivalent primary energy)\n",
      "114  Algeria  DZA  1965                                 0.0\n",
      "115  Algeria  DZA  1966                                 0.0\n",
      "116  Algeria  DZA  1967                                 0.0\n",
      "117  Algeria  DZA  1968                                 0.0\n",
      "118  Algeria  DZA  1969                                 0.0\n"
     ]
    }
   ],
   "source": [
    "# Explore wind_share_energy data\n",
    "print(\"First few rows of wind_share_energy:\")\n",
    "print(wind_share_energy.head())"
   ]
  },
  {
   "cell_type": "code",
   "execution_count": 66,
   "metadata": {},
   "outputs": [
    {
     "name": "stdout",
     "output_type": "stream",
     "text": [
      "\n",
      "Info about wind_share_energy:\n",
      "<class 'pandas.core.frame.DataFrame'>\n",
      "Index: 4230 entries, 114 to 5444\n",
      "Data columns (total 4 columns):\n",
      " #   Column                              Non-Null Count  Dtype  \n",
      "---  ------                              --------------  -----  \n",
      " 0   Entity                              4230 non-null   object \n",
      " 1   Code                                4230 non-null   object \n",
      " 2   Year                                4230 non-null   int64  \n",
      " 3   Wind (% equivalent primary energy)  4230 non-null   float64\n",
      "dtypes: float64(1), int64(1), object(2)\n",
      "memory usage: 165.2+ KB\n",
      "None\n"
     ]
    }
   ],
   "source": [
    "print(\"\\nInfo about wind_share_energy:\")\n",
    "print(wind_share_energy.info())"
   ]
  },
  {
   "cell_type": "code",
   "execution_count": 67,
   "metadata": {},
   "outputs": [
    {
     "name": "stdout",
     "output_type": "stream",
     "text": [
      "\n",
      "Basic statistics of wind_share_energy:\n",
      "              Year  Wind (% equivalent primary energy)\n",
      "count  4230.000000                         4230.000000\n",
      "mean   1994.258865                            0.457043\n",
      "std      16.305066                            1.669765\n",
      "min    1965.000000                            0.000000\n",
      "25%    1980.000000                            0.000000\n",
      "50%    1995.000000                            0.000000\n",
      "75%    2008.000000                            0.032613\n",
      "max    2021.000000                           24.614344\n"
     ]
    }
   ],
   "source": [
    "print(\"\\nBasic statistics of wind_share_energy:\")\n",
    "print(wind_share_energy.describe())"
   ]
  },
  {
   "cell_type": "code",
   "execution_count": 68,
   "metadata": {},
   "outputs": [
    {
     "name": "stdout",
     "output_type": "stream",
     "text": [
      "\n",
      "Basic statistics of wind_share_energy:\n",
      "Index(['Entity', 'Code', 'Year', 'Wind (% equivalent primary energy)'], dtype='object')\n"
     ]
    }
   ],
   "source": [
    "print(\"\\nBasic statistics of wind_share_energy:\")\n",
    "print(wind_share_energy.columns)"
   ]
  },
  {
   "cell_type": "code",
   "execution_count": 69,
   "metadata": {},
   "outputs": [
    {
     "name": "stdout",
     "output_type": "stream",
     "text": [
      "Entity                                0\n",
      "Code                                  0\n",
      "Year                                  0\n",
      "Wind (% equivalent primary energy)    0\n",
      "dtype: int64\n"
     ]
    }
   ],
   "source": [
    "print(wind_share_energy.isnull().sum())\n",
    "\n",
    "wind_share_energy = wind_share_energy.dropna()"
   ]
  },
  {
   "cell_type": "code",
   "execution_count": 70,
   "metadata": {},
   "outputs": [
    {
     "name": "stdout",
     "output_type": "stream",
     "text": [
      "Entity                                 object\n",
      "Code                                   object\n",
      "Year                                    int64\n",
      "Wind (% equivalent primary energy)    float64\n",
      "dtype: object\n"
     ]
    }
   ],
   "source": [
    "print(wind_share_energy.dtypes)"
   ]
  },
  {
   "cell_type": "code",
   "execution_count": 71,
   "metadata": {},
   "outputs": [
    {
     "name": "stdout",
     "output_type": "stream",
     "text": [
      "First few rows of share_electricity_wind:\n",
      "        Entity Code  Year  Wind (% electricity)\n",
      "0  Afghanistan  AFG  2000                   0.0\n",
      "1  Afghanistan  AFG  2001                   0.0\n",
      "2  Afghanistan  AFG  2002                   0.0\n",
      "3  Afghanistan  AFG  2003                   0.0\n",
      "4  Afghanistan  AFG  2004                   0.0\n"
     ]
    }
   ],
   "source": [
    "# Explore share_electricity_wind data\n",
    "print(\"First few rows of share_electricity_wind:\")\n",
    "print(share_electricity_wind.head())"
   ]
  },
  {
   "cell_type": "code",
   "execution_count": 72,
   "metadata": {},
   "outputs": [
    {
     "name": "stdout",
     "output_type": "stream",
     "text": [
      "\n",
      "Info about share_electricity_wind:\n",
      "<class 'pandas.core.frame.DataFrame'>\n",
      "RangeIndex: 6871 entries, 0 to 6870\n",
      "Data columns (total 4 columns):\n",
      " #   Column                Non-Null Count  Dtype  \n",
      "---  ------                --------------  -----  \n",
      " 0   Entity                6871 non-null   object \n",
      " 1   Code                  5781 non-null   object \n",
      " 2   Year                  6871 non-null   int64  \n",
      " 3   Wind (% electricity)  6871 non-null   float64\n",
      "dtypes: float64(1), int64(1), object(2)\n",
      "memory usage: 214.8+ KB\n",
      "None\n"
     ]
    }
   ],
   "source": [
    "print(\"\\nInfo about share_electricity_wind:\")\n",
    "print(share_electricity_wind.info())"
   ]
  },
  {
   "cell_type": "code",
   "execution_count": 73,
   "metadata": {},
   "outputs": [
    {
     "name": "stdout",
     "output_type": "stream",
     "text": [
      "\n",
      "Basic statistics of share_electricity_wind:\n",
      "              Year  Wind (% electricity)\n",
      "count  6871.000000           6871.000000\n",
      "mean   2006.532091              1.358413\n",
      "std       9.626237              4.443913\n",
      "min    1985.000000              0.000000\n",
      "25%    2000.000000              0.000000\n",
      "50%    2007.000000              0.000000\n",
      "75%    2014.000000              0.325835\n",
      "max    2022.000000             56.839542\n"
     ]
    }
   ],
   "source": [
    "print(\"\\nBasic statistics of share_electricity_wind:\")\n",
    "print(share_electricity_wind.describe())"
   ]
  },
  {
   "cell_type": "code",
   "execution_count": 74,
   "metadata": {},
   "outputs": [
    {
     "name": "stdout",
     "output_type": "stream",
     "text": [
      "\n",
      "Basic statistics of share_electricity_wind:\n",
      "Index(['Entity', 'Code', 'Year', 'Wind (% electricity)'], dtype='object')\n"
     ]
    }
   ],
   "source": [
    "print(\"\\nBasic statistics of share_electricity_wind:\")\n",
    "print(share_electricity_wind.columns)"
   ]
  },
  {
   "cell_type": "code",
   "execution_count": 75,
   "metadata": {},
   "outputs": [
    {
     "name": "stdout",
     "output_type": "stream",
     "text": [
      "Entity                     0\n",
      "Code                    1090\n",
      "Year                       0\n",
      "Wind (% electricity)       0\n",
      "dtype: int64\n"
     ]
    }
   ],
   "source": [
    "print(share_electricity_wind.isnull().sum())\n",
    "\n",
    "share_electricity_wind = share_electricity_wind.dropna()"
   ]
  },
  {
   "cell_type": "code",
   "execution_count": 76,
   "metadata": {},
   "outputs": [
    {
     "name": "stdout",
     "output_type": "stream",
     "text": [
      "Entity                   object\n",
      "Code                     object\n",
      "Year                      int64\n",
      "Wind (% electricity)    float64\n",
      "dtype: object\n"
     ]
    }
   ],
   "source": [
    "print(share_electricity_wind.dtypes)"
   ]
  },
  {
   "cell_type": "code",
   "execution_count": 77,
   "metadata": {},
   "outputs": [
    {
     "name": "stdout",
     "output_type": "stream",
     "text": [
      "First few rows of solar_energy_consumption:\n",
      "        Entity Code  Year  Electricity from solar (TWh)\n",
      "0  Afghanistan  AFG  2000                           0.0\n",
      "1  Afghanistan  AFG  2001                           0.0\n",
      "2  Afghanistan  AFG  2002                           0.0\n",
      "3  Afghanistan  AFG  2003                           0.0\n",
      "4  Afghanistan  AFG  2004                           0.0\n"
     ]
    }
   ],
   "source": [
    "# Explore solar_energy_consumption data\n",
    "print(\"First few rows of solar_energy_consumption:\")\n",
    "print(solar_energy_consumption.head())"
   ]
  },
  {
   "cell_type": "code",
   "execution_count": 78,
   "metadata": {},
   "outputs": [
    {
     "name": "stdout",
     "output_type": "stream",
     "text": [
      "\n",
      "Info about solar_energy_consumption:\n",
      "<class 'pandas.core.frame.DataFrame'>\n",
      "RangeIndex: 8683 entries, 0 to 8682\n",
      "Data columns (total 4 columns):\n",
      " #   Column                        Non-Null Count  Dtype  \n",
      "---  ------                        --------------  -----  \n",
      " 0   Entity                        8683 non-null   object \n",
      " 1   Code                          7227 non-null   object \n",
      " 2   Year                          8683 non-null   int64  \n",
      " 3   Electricity from solar (TWh)  8683 non-null   float64\n",
      "dtypes: float64(1), int64(1), object(2)\n",
      "memory usage: 271.5+ KB\n",
      "None\n"
     ]
    }
   ],
   "source": [
    "print(\"\\nInfo about solar_energy_consumption:\")\n",
    "print(solar_energy_consumption.info())"
   ]
  },
  {
   "cell_type": "code",
   "execution_count": 79,
   "metadata": {},
   "outputs": [
    {
     "name": "stdout",
     "output_type": "stream",
     "text": [
      "\n",
      "Basic statistics of solar_energy_consumption:\n",
      "              Year  Electricity from solar (TWh)\n",
      "count  8683.000000                   8683.000000\n",
      "mean   2000.375677                      5.277942\n",
      "std      15.495957                     40.098862\n",
      "min    1965.000000                      0.000000\n",
      "25%    1990.000000                      0.000000\n",
      "50%    2004.000000                      0.000000\n",
      "75%    2013.000000                      0.010000\n",
      "max    2022.000000                   1040.500000\n"
     ]
    }
   ],
   "source": [
    "print(\"\\nBasic statistics of solar_energy_consumption:\")\n",
    "print(solar_energy_consumption.describe())"
   ]
  },
  {
   "cell_type": "code",
   "execution_count": 80,
   "metadata": {},
   "outputs": [
    {
     "name": "stdout",
     "output_type": "stream",
     "text": [
      "\n",
      "Basic statistics of solar_energy_consumption:\n",
      "Index(['Entity', 'Code', 'Year', 'Electricity from solar (TWh)'], dtype='object')\n"
     ]
    }
   ],
   "source": [
    "print(\"\\nBasic statistics of solar_energy_consumption:\")\n",
    "print(solar_energy_consumption.columns)"
   ]
  },
  {
   "cell_type": "code",
   "execution_count": 81,
   "metadata": {},
   "outputs": [
    {
     "name": "stdout",
     "output_type": "stream",
     "text": [
      "Entity                             0\n",
      "Code                            1456\n",
      "Year                               0\n",
      "Electricity from solar (TWh)       0\n",
      "dtype: int64\n"
     ]
    }
   ],
   "source": [
    "print(solar_energy_consumption.isnull().sum())\n",
    "\n",
    "solar_energy_consumption = solar_energy_consumption.dropna() "
   ]
  },
  {
   "cell_type": "code",
   "execution_count": 82,
   "metadata": {},
   "outputs": [
    {
     "name": "stdout",
     "output_type": "stream",
     "text": [
      "Entity                           object\n",
      "Code                             object\n",
      "Year                              int64\n",
      "Electricity from solar (TWh)    float64\n",
      "dtype: object\n"
     ]
    }
   ],
   "source": [
    "print(solar_energy_consumption.dtypes)\n"
   ]
  },
  {
   "cell_type": "code",
   "execution_count": 83,
   "metadata": {},
   "outputs": [
    {
     "name": "stdout",
     "output_type": "stream",
     "text": [
      "First few rows of installed_solar_PV_capacity:\n",
      "   Entity Code  Year  Solar Capacity\n",
      "0  Africa  NaN  1996        0.001112\n",
      "1  Africa  NaN  1997        0.003137\n",
      "2  Africa  NaN  1998        0.005162\n",
      "3  Africa  NaN  1999        0.008199\n",
      "4  Africa  NaN  2000        0.010927\n"
     ]
    }
   ],
   "source": [
    "# Explore installed_solar_PV_capacity data\n",
    "print(\"First few rows of installed_solar_PV_capacity:\")\n",
    "print(installed_solar_PV_capacity.head())"
   ]
  },
  {
   "cell_type": "code",
   "execution_count": 84,
   "metadata": {},
   "outputs": [
    {
     "name": "stdout",
     "output_type": "stream",
     "text": [
      "\n",
      "Info about installed_solar_PV_capacity:\n",
      "<class 'pandas.core.frame.DataFrame'>\n",
      "RangeIndex: 1659 entries, 0 to 1658\n",
      "Data columns (total 4 columns):\n",
      " #   Column          Non-Null Count  Dtype  \n",
      "---  ------          --------------  -----  \n",
      " 0   Entity          1659 non-null   object \n",
      " 1   Code            1243 non-null   object \n",
      " 2   Year            1659 non-null   int64  \n",
      " 3   Solar Capacity  1659 non-null   float64\n",
      "dtypes: float64(1), int64(1), object(2)\n",
      "memory usage: 52.0+ KB\n",
      "None\n"
     ]
    }
   ],
   "source": [
    "print(\"\\nInfo about installed_solar_PV_capacity:\")\n",
    "print(installed_solar_PV_capacity.info())"
   ]
  },
  {
   "cell_type": "code",
   "execution_count": 85,
   "metadata": {},
   "outputs": [
    {
     "name": "stdout",
     "output_type": "stream",
     "text": [
      "\n",
      "Basic statistics of installed_solar_PV_capacity:\n",
      "              Year  Solar Capacity\n",
      "count  1659.000000     1659.000000\n",
      "mean   2008.534057       12.335430\n",
      "std       7.487538       54.710200\n",
      "min    1996.000000        0.000000\n",
      "25%    2002.000000        0.001026\n",
      "50%    2009.000000        0.061000\n",
      "75%    2015.000000        1.924880\n",
      "max    2021.000000      843.086060\n"
     ]
    }
   ],
   "source": [
    "print(\"\\nBasic statistics of installed_solar_PV_capacity:\")\n",
    "print(installed_solar_PV_capacity.describe())"
   ]
  },
  {
   "cell_type": "code",
   "execution_count": 86,
   "metadata": {},
   "outputs": [
    {
     "name": "stdout",
     "output_type": "stream",
     "text": [
      "\n",
      "Basic statistics of installed_solar_PV_capacity:\n",
      "Index(['Entity', 'Code', 'Year', 'Solar Capacity'], dtype='object')\n"
     ]
    }
   ],
   "source": [
    "print(\"\\nBasic statistics of installed_solar_PV_capacity:\")\n",
    "print(installed_solar_PV_capacity.columns)"
   ]
  },
  {
   "cell_type": "code",
   "execution_count": 87,
   "metadata": {},
   "outputs": [
    {
     "name": "stdout",
     "output_type": "stream",
     "text": [
      "Entity              0\n",
      "Code              416\n",
      "Year                0\n",
      "Solar Capacity      0\n",
      "dtype: int64\n"
     ]
    }
   ],
   "source": [
    "\n",
    "print(installed_solar_PV_capacity.isnull().sum())\n",
    "\n",
    "installed_solar_PV_capacity = installed_solar_PV_capacity.dropna() "
   ]
  },
  {
   "cell_type": "code",
   "execution_count": 88,
   "metadata": {},
   "outputs": [
    {
     "name": "stdout",
     "output_type": "stream",
     "text": [
      "Entity             object\n",
      "Code               object\n",
      "Year                int64\n",
      "Solar Capacity    float64\n",
      "dtype: object\n"
     ]
    }
   ],
   "source": [
    "print(installed_solar_PV_capacity.dtypes)"
   ]
  },
  {
   "cell_type": "code",
   "execution_count": 89,
   "metadata": {},
   "outputs": [
    {
     "name": "stdout",
     "output_type": "stream",
     "text": [
      "First few rows of solar_share_energy:\n",
      "   Entity Code  Year  Solar (% equivalent primary energy)\n",
      "0  Africa  NaN  1971                                  0.0\n",
      "1  Africa  NaN  1972                                  0.0\n",
      "2  Africa  NaN  1973                                  0.0\n",
      "3  Africa  NaN  1974                                  0.0\n",
      "4  Africa  NaN  1975                                  0.0\n"
     ]
    }
   ],
   "source": [
    "# Explore solar_share_energy data\n",
    "print(\"First few rows of solar_share_energy:\")\n",
    "print(solar_share_energy.head())"
   ]
  },
  {
   "cell_type": "code",
   "execution_count": 90,
   "metadata": {},
   "outputs": [
    {
     "name": "stdout",
     "output_type": "stream",
     "text": [
      "\n",
      "Info about solar_share_energy:\n",
      "<class 'pandas.core.frame.DataFrame'>\n",
      "RangeIndex: 5442 entries, 0 to 5441\n",
      "Data columns (total 4 columns):\n",
      " #   Column                               Non-Null Count  Dtype  \n",
      "---  ------                               --------------  -----  \n",
      " 0   Entity                               5442 non-null   object \n",
      " 1   Code                                 4230 non-null   object \n",
      " 2   Year                                 5442 non-null   int64  \n",
      " 3   Solar (% equivalent primary energy)  5442 non-null   float64\n",
      "dtypes: float64(1), int64(1), object(2)\n",
      "memory usage: 170.2+ KB\n",
      "None\n"
     ]
    }
   ],
   "source": [
    "print(\"\\nInfo about solar_share_energy:\")\n",
    "print(solar_share_energy.info())"
   ]
  },
  {
   "cell_type": "code",
   "execution_count": 91,
   "metadata": {},
   "outputs": [
    {
     "name": "stdout",
     "output_type": "stream",
     "text": [
      "\n",
      "Basic statistics of solar_share_energy:\n",
      "              Year  Solar (% equivalent primary energy)\n",
      "count  5442.000000                          5442.000000\n",
      "mean   1994.385888                             0.129722\n",
      "std      16.168541                             0.475133\n",
      "min    1965.000000                             0.000000\n",
      "25%    1981.000000                             0.000000\n",
      "50%    1995.000000                             0.000000\n",
      "75%    2008.000000                             0.003650\n",
      "max    2021.000000                             5.999280\n"
     ]
    }
   ],
   "source": [
    "print(\"\\nBasic statistics of solar_share_energy:\")\n",
    "print(solar_share_energy.describe())"
   ]
  },
  {
   "cell_type": "code",
   "execution_count": 92,
   "metadata": {},
   "outputs": [
    {
     "name": "stdout",
     "output_type": "stream",
     "text": [
      "\n",
      "Basic statistics of solar_share_energy:\n",
      "Index(['Entity', 'Code', 'Year', 'Solar (% equivalent primary energy)'], dtype='object')\n"
     ]
    }
   ],
   "source": [
    "print(\"\\nBasic statistics of solar_share_energy:\")\n",
    "print(solar_share_energy.columns)"
   ]
  },
  {
   "cell_type": "code",
   "execution_count": 93,
   "metadata": {},
   "outputs": [
    {
     "name": "stdout",
     "output_type": "stream",
     "text": [
      "Entity                                    0\n",
      "Code                                   1212\n",
      "Year                                      0\n",
      "Solar (% equivalent primary energy)       0\n",
      "dtype: int64\n"
     ]
    }
   ],
   "source": [
    "print(solar_share_energy.isnull().sum())\n",
    "\n",
    "solar_share_energy = solar_share_energy.dropna() "
   ]
  },
  {
   "cell_type": "code",
   "execution_count": 94,
   "metadata": {},
   "outputs": [
    {
     "name": "stdout",
     "output_type": "stream",
     "text": [
      "Entity                                  object\n",
      "Code                                    object\n",
      "Year                                     int64\n",
      "Solar (% equivalent primary energy)    float64\n",
      "dtype: object\n"
     ]
    }
   ],
   "source": [
    "\n",
    "print(solar_share_energy.dtypes)\n"
   ]
  },
  {
   "cell_type": "code",
   "execution_count": 95,
   "metadata": {},
   "outputs": [
    {
     "name": "stdout",
     "output_type": "stream",
     "text": [
      "First few rows of share_electricity_solar:\n",
      "        Entity Code  Year  Solar (% electricity)\n",
      "0  Afghanistan  AFG  2000                    0.0\n",
      "1  Afghanistan  AFG  2001                    0.0\n",
      "2  Afghanistan  AFG  2002                    0.0\n",
      "3  Afghanistan  AFG  2003                    0.0\n",
      "4  Afghanistan  AFG  2004                    0.0\n"
     ]
    }
   ],
   "source": [
    "# Explore share_electricity_solar data\n",
    "print(\"First few rows of share_electricity_solar:\")\n",
    "print(share_electricity_solar.head())"
   ]
  },
  {
   "cell_type": "code",
   "execution_count": 96,
   "metadata": {},
   "outputs": [
    {
     "name": "stdout",
     "output_type": "stream",
     "text": [
      "\n",
      "Info about share_electricity_solar:\n",
      "<class 'pandas.core.frame.DataFrame'>\n",
      "RangeIndex: 6871 entries, 0 to 6870\n",
      "Data columns (total 4 columns):\n",
      " #   Column                 Non-Null Count  Dtype  \n",
      "---  ------                 --------------  -----  \n",
      " 0   Entity                 6871 non-null   object \n",
      " 1   Code                   5781 non-null   object \n",
      " 2   Year                   6871 non-null   int64  \n",
      " 3   Solar (% electricity)  6871 non-null   float64\n",
      "dtypes: float64(1), int64(1), object(2)\n",
      "memory usage: 214.8+ KB\n",
      "None\n"
     ]
    }
   ],
   "source": [
    "print(\"\\nInfo about share_electricity_solar:\")\n",
    "print(share_electricity_solar.info())"
   ]
  },
  {
   "cell_type": "code",
   "execution_count": 97,
   "metadata": {},
   "outputs": [
    {
     "name": "stdout",
     "output_type": "stream",
     "text": [
      "\n",
      "Basic statistics of share_electricity_solar:\n",
      "              Year  Solar (% electricity)\n",
      "count  6871.000000            6871.000000\n",
      "mean   2006.532091               0.580498\n",
      "std       9.626237               2.009424\n",
      "min    1985.000000               0.000000\n",
      "25%    2000.000000               0.000000\n",
      "50%    2007.000000               0.000000\n",
      "75%    2014.000000               0.062003\n",
      "max    2022.000000              40.000000\n"
     ]
    }
   ],
   "source": [
    "print(\"\\nBasic statistics of share_electricity_solar:\")\n",
    "print(share_electricity_solar.describe())\n"
   ]
  },
  {
   "cell_type": "code",
   "execution_count": 98,
   "metadata": {},
   "outputs": [
    {
     "name": "stdout",
     "output_type": "stream",
     "text": [
      "\n",
      "Basic statistics of biofuel_production:\n",
      "Index(['Entity', 'Code', 'Year', 'Solar (% electricity)'], dtype='object')\n"
     ]
    }
   ],
   "source": [
    "print(\"\\nBasic statistics of biofuel_production:\")\n",
    "print(share_electricity_solar.columns)"
   ]
  },
  {
   "cell_type": "code",
   "execution_count": 99,
   "metadata": {},
   "outputs": [
    {
     "name": "stdout",
     "output_type": "stream",
     "text": [
      "Entity                      0\n",
      "Code                     1090\n",
      "Year                        0\n",
      "Solar (% electricity)       0\n",
      "dtype: int64\n"
     ]
    }
   ],
   "source": [
    "\n",
    "print(share_electricity_solar.isnull().sum())\n",
    "\n",
    "share_electricity_solar = share_electricity_solar.dropna() "
   ]
  },
  {
   "cell_type": "code",
   "execution_count": 100,
   "metadata": {},
   "outputs": [
    {
     "name": "stdout",
     "output_type": "stream",
     "text": [
      "Entity                    object\n",
      "Code                      object\n",
      "Year                       int64\n",
      "Solar (% electricity)    float64\n",
      "dtype: object\n"
     ]
    }
   ],
   "source": [
    "print(share_electricity_solar.dtypes)\n"
   ]
  },
  {
   "cell_type": "code",
   "execution_count": 101,
   "metadata": {},
   "outputs": [
    {
     "name": "stdout",
     "output_type": "stream",
     "text": [
      "First few rows of biofuel_production:\n",
      "        Entity Code  Year  Biofuels Production - TWh - Total\n",
      "0  Africa (BP)  NaN  1990                           0.068617\n",
      "1  Africa (BP)  NaN  1991                           0.068617\n",
      "2  Africa (BP)  NaN  1992                           0.068805\n",
      "3  Africa (BP)  NaN  1993                           0.068617\n",
      "4  Africa (BP)  NaN  1994                           0.068617\n"
     ]
    }
   ],
   "source": [
    "# Explore biofuel_production data\n",
    "print(\"First few rows of biofuel_production:\")\n",
    "print(biofuel_production.head())"
   ]
  },
  {
   "cell_type": "code",
   "execution_count": 102,
   "metadata": {},
   "outputs": [
    {
     "name": "stdout",
     "output_type": "stream",
     "text": [
      "\n",
      "Info about biofuel_production:\n",
      "<class 'pandas.core.frame.DataFrame'>\n",
      "RangeIndex: 1081 entries, 0 to 1080\n",
      "Data columns (total 4 columns):\n",
      " #   Column                             Non-Null Count  Dtype  \n",
      "---  ------                             --------------  -----  \n",
      " 0   Entity                             1081 non-null   object \n",
      " 1   Code                               800 non-null    object \n",
      " 2   Year                               1081 non-null   int64  \n",
      " 3   Biofuels Production - TWh - Total  1081 non-null   float64\n",
      "dtypes: float64(1), int64(1), object(2)\n",
      "memory usage: 33.9+ KB\n",
      "None\n"
     ]
    }
   ],
   "source": [
    "print(\"\\nInfo about biofuel_production:\")\n",
    "print(biofuel_production.info())"
   ]
  },
  {
   "cell_type": "code",
   "execution_count": 103,
   "metadata": {},
   "outputs": [
    {
     "name": "stdout",
     "output_type": "stream",
     "text": [
      "\n",
      "Basic statistics of biofuel_production:\n",
      "              Year  Biofuels Production - TWh - Total\n",
      "count  1081.000000                        1081.000000\n",
      "mean   2005.830712                          56.543887\n",
      "std       9.197525                         138.262878\n",
      "min    1990.000000                           0.000000\n",
      "25%    1998.000000                           0.000000\n",
      "50%    2006.000000                           3.642700\n",
      "75%    2014.000000                          32.786575\n",
      "max    2021.000000                        1114.488300\n"
     ]
    }
   ],
   "source": [
    "print(\"\\nBasic statistics of biofuel_production:\")\n",
    "print(biofuel_production.describe())"
   ]
  },
  {
   "cell_type": "code",
   "execution_count": 104,
   "metadata": {},
   "outputs": [
    {
     "name": "stdout",
     "output_type": "stream",
     "text": [
      "\n",
      "Basic statistics of biofuel_production:\n",
      "Index(['Entity', 'Code', 'Year', 'Biofuels Production - TWh - Total'], dtype='object')\n"
     ]
    }
   ],
   "source": [
    "print(\"\\nBasic statistics of biofuel_production:\")\n",
    "print(biofuel_production.columns)"
   ]
  },
  {
   "cell_type": "code",
   "execution_count": 105,
   "metadata": {},
   "outputs": [
    {
     "name": "stdout",
     "output_type": "stream",
     "text": [
      "Entity                                 0\n",
      "Code                                 281\n",
      "Year                                   0\n",
      "Biofuels Production - TWh - Total      0\n",
      "dtype: int64\n"
     ]
    }
   ],
   "source": [
    "print(biofuel_production.isnull().sum())\n",
    "\n",
    "biofuel_production = biofuel_production.dropna() "
   ]
  },
  {
   "cell_type": "code",
   "execution_count": 106,
   "metadata": {},
   "outputs": [
    {
     "name": "stdout",
     "output_type": "stream",
     "text": [
      "Entity                                object\n",
      "Code                                  object\n",
      "Year                                   int64\n",
      "Biofuels Production - TWh - Total    float64\n",
      "dtype: object\n"
     ]
    }
   ],
   "source": [
    "print(biofuel_production.dtypes)\n"
   ]
  },
  {
   "cell_type": "code",
   "execution_count": 107,
   "metadata": {},
   "outputs": [
    {
     "name": "stdout",
     "output_type": "stream",
     "text": [
      "First few rows of solar_share_energy:\n",
      "      Entity Code  Year  Solar (% equivalent primary energy)\n",
      "102  Algeria  DZA  1965                                  0.0\n",
      "103  Algeria  DZA  1966                                  0.0\n",
      "104  Algeria  DZA  1967                                  0.0\n",
      "105  Algeria  DZA  1968                                  0.0\n",
      "106  Algeria  DZA  1969                                  0.0\n"
     ]
    }
   ],
   "source": [
    "# Explore solar_share_energy data\n",
    "print(\"First few rows of solar_share_energy:\")\n",
    "print(solar_share_energy.head())"
   ]
  },
  {
   "cell_type": "code",
   "execution_count": 108,
   "metadata": {},
   "outputs": [
    {
     "name": "stdout",
     "output_type": "stream",
     "text": [
      "\n",
      "Info about solar_share_energy:\n",
      "<class 'pandas.core.frame.DataFrame'>\n",
      "Index: 4230 entries, 102 to 5441\n",
      "Data columns (total 4 columns):\n",
      " #   Column                               Non-Null Count  Dtype  \n",
      "---  ------                               --------------  -----  \n",
      " 0   Entity                               4230 non-null   object \n",
      " 1   Code                                 4230 non-null   object \n",
      " 2   Year                                 4230 non-null   int64  \n",
      " 3   Solar (% equivalent primary energy)  4230 non-null   float64\n",
      "dtypes: float64(1), int64(1), object(2)\n",
      "memory usage: 165.2+ KB\n",
      "None\n"
     ]
    }
   ],
   "source": [
    "print(\"\\nInfo about solar_share_energy:\")\n",
    "print(solar_share_energy.info())"
   ]
  },
  {
   "cell_type": "code",
   "execution_count": 109,
   "metadata": {},
   "outputs": [
    {
     "name": "stdout",
     "output_type": "stream",
     "text": [
      "\n",
      "Basic statistics of solar_share_energy:\n",
      "              Year  Solar (% equivalent primary energy)\n",
      "count  4230.000000                          4230.000000\n",
      "mean   1994.258865                             0.128135\n",
      "std      16.305066                             0.494454\n",
      "min    1965.000000                             0.000000\n",
      "25%    1980.000000                             0.000000\n",
      "50%    1995.000000                             0.000000\n",
      "75%    2008.000000                             0.002186\n",
      "max    2021.000000                             5.999280\n"
     ]
    }
   ],
   "source": [
    "print(\"\\nBasic statistics of solar_share_energy:\")\n",
    "print(solar_share_energy.describe())"
   ]
  },
  {
   "cell_type": "code",
   "execution_count": 110,
   "metadata": {},
   "outputs": [
    {
     "name": "stdout",
     "output_type": "stream",
     "text": [
      "\n",
      "Basic statistics of solar_share_energy:\n",
      "Index(['Entity', 'Code', 'Year', 'Solar (% equivalent primary energy)'], dtype='object')\n"
     ]
    }
   ],
   "source": [
    "print(\"\\nBasic statistics of solar_share_energy:\")\n",
    "print(solar_share_energy.columns)"
   ]
  },
  {
   "cell_type": "code",
   "execution_count": 111,
   "metadata": {},
   "outputs": [
    {
     "name": "stdout",
     "output_type": "stream",
     "text": [
      "Entity                                 0\n",
      "Code                                   0\n",
      "Year                                   0\n",
      "Solar (% equivalent primary energy)    0\n",
      "dtype: int64\n"
     ]
    }
   ],
   "source": [
    "\n",
    "print(solar_share_energy.isnull().sum())\n",
    "\n",
    "solar_share_energy = solar_share_energy.dropna() "
   ]
  },
  {
   "cell_type": "code",
   "execution_count": 112,
   "metadata": {},
   "outputs": [
    {
     "name": "stdout",
     "output_type": "stream",
     "text": [
      "Entity                                  object\n",
      "Code                                    object\n",
      "Year                                     int64\n",
      "Solar (% equivalent primary energy)    float64\n",
      "dtype: object\n"
     ]
    }
   ],
   "source": [
    "print(solar_share_energy.dtypes)\n"
   ]
  },
  {
   "cell_type": "code",
   "execution_count": 113,
   "metadata": {},
   "outputs": [
    {
     "name": "stdout",
     "output_type": "stream",
     "text": [
      "First few rows of geotermal_capacity:\n",
      "    Entity Code  Year  Geothermal Capacity\n",
      "0   Africa  NaN  1990                 45.0\n",
      "1   Africa  NaN  1995                 45.0\n",
      "2   Africa  NaN  2000                 65.3\n",
      "3   Africa  NaN  2001                 65.3\n",
      "4   Africa  NaN  2002                 65.3\n",
      "5   Africa  NaN  2003                 65.3\n",
      "6   Africa  NaN  2004                135.3\n",
      "7   Africa  NaN  2005                135.3\n",
      "8   Africa  NaN  2006                135.3\n",
      "9   Africa  NaN  2007                135.3\n",
      "10  Africa  NaN  2008                135.3\n",
      "11  Africa  NaN  2009                170.3\n",
      "12  Africa  NaN  2010                205.3\n",
      "13  Africa  NaN  2011                205.3\n",
      "14  Africa  NaN  2012                212.8\n"
     ]
    }
   ],
   "source": [
    "# Explore geotermal_capacity data\n",
    "print(\"First few rows of geotermal_capacity:\")\n",
    "print(geotermal_capacity.head(15))"
   ]
  },
  {
   "cell_type": "code",
   "execution_count": 114,
   "metadata": {},
   "outputs": [
    {
     "name": "stdout",
     "output_type": "stream",
     "text": [
      "\n",
      "Info about geotermal_capacity:\n",
      "<class 'pandas.core.frame.DataFrame'>\n",
      "RangeIndex: 758 entries, 0 to 757\n",
      "Data columns (total 4 columns):\n",
      " #   Column               Non-Null Count  Dtype  \n",
      "---  ------               --------------  -----  \n",
      " 0   Entity               758 non-null    object \n",
      " 1   Code                 576 non-null    object \n",
      " 2   Year                 758 non-null    int64  \n",
      " 3   Geothermal Capacity  758 non-null    float64\n",
      "dtypes: float64(1), int64(1), object(2)\n",
      "memory usage: 23.8+ KB\n",
      "None\n"
     ]
    }
   ],
   "source": [
    "print(\"\\nInfo about geotermal_capacity:\")\n",
    "print(geotermal_capacity.info(0))"
   ]
  },
  {
   "cell_type": "code",
   "execution_count": 115,
   "metadata": {},
   "outputs": [
    {
     "name": "stdout",
     "output_type": "stream",
     "text": [
      "\n",
      "Basic statistics of geotermal_capacity:\n",
      "              Year  Geothermal Capacity\n",
      "count   758.000000           758.000000\n",
      "mean   2008.449868           919.938545\n",
      "std       7.770961          1948.331585\n",
      "min    1975.000000             0.000000\n",
      "25%    2003.000000            16.300000\n",
      "50%    2009.000000           145.000000\n",
      "75%    2015.000000           818.250000\n",
      "max    2020.000000         14075.000000\n"
     ]
    }
   ],
   "source": [
    "print(\"\\nBasic statistics of geotermal_capacity:\")\n",
    "print(geotermal_capacity.describe())"
   ]
  },
  {
   "cell_type": "code",
   "execution_count": 116,
   "metadata": {},
   "outputs": [
    {
     "name": "stdout",
     "output_type": "stream",
     "text": [
      "\n",
      "Basic statistics of geotermal_capacity:\n",
      "Index(['Entity', 'Code', 'Year', 'Geothermal Capacity'], dtype='object')\n"
     ]
    }
   ],
   "source": [
    "print(\"\\nBasic statistics of geotermal_capacity:\")\n",
    "print(geotermal_capacity.columns)"
   ]
  },
  {
   "cell_type": "code",
   "execution_count": 117,
   "metadata": {},
   "outputs": [
    {
     "name": "stdout",
     "output_type": "stream",
     "text": [
      "Entity                   0\n",
      "Code                   182\n",
      "Year                     0\n",
      "Geothermal Capacity      0\n",
      "dtype: int64\n"
     ]
    }
   ],
   "source": [
    "\n",
    "print(geotermal_capacity.isnull().sum())\n",
    "\n",
    "geotermal_capacity = geotermal_capacity.dropna()"
   ]
  },
  {
   "cell_type": "code",
   "execution_count": 118,
   "metadata": {},
   "outputs": [
    {
     "name": "stdout",
     "output_type": "stream",
     "text": [
      "Entity                  object\n",
      "Code                    object\n",
      "Year                     int64\n",
      "Geothermal Capacity    float64\n",
      "dtype: object\n"
     ]
    }
   ],
   "source": [
    "print(geotermal_capacity.dtypes)\n"
   ]
  }
 ],
 "metadata": {
  "kernelspec": {
   "display_name": "Python 3",
   "language": "python",
   "name": "python3"
  },
  "language_info": {
   "codemirror_mode": {
    "name": "ipython",
    "version": 3
   },
   "file_extension": ".py",
   "mimetype": "text/x-python",
   "name": "python",
   "nbconvert_exporter": "python",
   "pygments_lexer": "ipython3",
   "version": "3.11.5"
  },
  "orig_nbformat": 4
 },
 "nbformat": 4,
 "nbformat_minor": 2
}
